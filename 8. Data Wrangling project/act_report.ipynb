{
 "cells": [
  {
   "cell_type": "markdown",
   "metadata": {},
   "source": [
    "# Who's the good boy? Analysis of WeRateDogs Tweet Archive\n",
    "\n",
    "A variety of debates ensue during discussions of who's the good boy. WeRateDogs on Twitter has been going a particulartly good job at providing sophisticated ratings. Today we have a chance of looking closer at wisdom they have shared over the years in their Twitter feed. This gives us an opportunity to answer some long debated questions:\n",
    "- Do some breeds of dogs have more good per boys than others?\n",
    "- Do followers agree with sophisticated expert opinion on the matter?\n",
    "- At what \"stage\" are dogs the best?\n",
    "- Do WeRateDogs followers even care about dogs or will they retweet just about anything?\n",
    "\n",
    "## Methodology\n",
    "\n",
    "In a dataset provided to us we have about 2000 tweets with dog stages included for some and dog breeds predicted by a neural network. Predictions are not 100% accurate of course, but we'll trust them in this article.\n",
    "\n",
    "WeRateDogs provided their sophisticated ratings of the dogs in their tweets, but doe the audience agree? We'll use retweet and favorite scores to infer that.\n",
    "\n",
    "Let's start by looking into what breeds of dogs we have in our dataset.\n",
    "\n",
    "![Tweet count by dog breed](./tweet_count_by_dog_breed.png)\n",
    "\n",
    "Golden retrievers, labrador retrievers, pembrokes and chihuahuas are by far most often rated dogs.\n",
    "\n",
    "### Do some breeds of dogs have more good per boys than others?\n",
    "\n",
    "Almost religious debates will ensue discussing this topic, but what do WeRateDogs think?\n",
    "\n",
    "![Dog rating by breed](./dog_rating_by_breed.png)\n",
    "\n",
    "Most dog breeds typically get rated 10-12 out of 10. Few breeds have a slightly better of worse ratings. Out of most popular breeds samoyeds seem to be doing best job.\n",
    "\n",
    "### Do followers agree with sophisticated WeRateDogs ratings?\n",
    "\n",
    "Let's look how tweet favorite counts plot against ratings.\n",
    "\n",
    "![Favorite count by rating](./favorite_count_by_rating.png)\n",
    "\n",
    "Very clear agreement here. Especially for ratings of 10 and above.\n",
    "\n",
    "### At what \"stage\" are dogs the best?\n",
    "\n",
    "![Dog rating by dog stage](./dog_rating_by_dog_stage.png)\n",
    "\n",
    "No winners in this department. Puppers may be a little behind, but at all stages dogs tend to be consistently rated 10 and above.\n",
    "\n",
    "### Do WeRateDogs followers even care about dogs or will they retweet just about anything?\n",
    "\n",
    "![Retweet counts by wether picture had a dog in it](./retweet_counts_by_wether_picture_had_a_dog_in_it.png)\n",
    "![Favorite counts by wether picture had a dog in it](./favorite_counts_by_wether_picture_had_a_dog_in_it.png)\n",
    "\n",
    "So followers may retweet just about anything, but they tend to favorite dogs more often than other things WeRateDogs posts.\n",
    "\n",
    "## Conclusions\n",
    "\n",
    "Even though some dog breeds seem to get slightly better ratings, all breeds present plenty of strong contenders. Dogs are good at all \"stages\". Followers of WeRateDogs generally agree with sophisticated expert ratings and can be counted on spreading the word about good boys."
   ]
  }
 ],
 "metadata": {
  "kernelspec": {
   "display_name": "Python 3",
   "language": "python",
   "name": "python3"
  },
  "language_info": {
   "codemirror_mode": {
    "name": "ipython",
    "version": 3
   },
   "file_extension": ".py",
   "mimetype": "text/x-python",
   "name": "python",
   "nbconvert_exporter": "python",
   "pygments_lexer": "ipython3",
   "version": "3.6.4"
  }
 },
 "nbformat": 4,
 "nbformat_minor": 2
}
