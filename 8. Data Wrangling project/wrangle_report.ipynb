{
 "cells": [
  {
   "cell_type": "markdown",
   "metadata": {},
   "source": [
    "# Data Wrangling of WeRateDogs Tweet Archive\n",
    "\n",
    "## Gathering\n",
    "\n",
    "Tweet archive was provided as a csv file, but some desired attributes were not present. Extended tweet information, using tweet ids in given archive, was downloaded using tweepy library and saved into json files. It was read into extended tweet and user information datasets.\n",
    "\n",
    "Image predictions were not provided, but url to download it was given. They were downloaded using requests library.\n",
    "\n",
    "## Assessing\n",
    "\n",
    "Using visual and programatic assessement these problems were discovered:\n",
    "\n",
    "- Tidiness:\n",
    "    - In tweets archive dog \"stages\" are datapoints, but should be observations (and categorical);\n",
    "    - tweets archive, extended tweets and image pradictions should be single dataset;\n",
    "    - (alternatively twitter related information in tweets archive and extended tweets could go into one dataset and dog related information in tweets archive and image predictions could go to another as this could be seen as two separate concenrs. In our case I think all this is part of same observation, so I decided against splitting data into two datasets);\n",
    "\n",
    "- Quality:\n",
    "    - tweets archive:\n",
    "        - `retweet_status_id` and `retweeted_status_user_id` are in scientific notation (also float64);\n",
    "        - False dog names (captured in `not_names`);\n",
    "        - Columns `name`, `doggo`, `floofer`, `pupper`, `puppo` poluted with 'None' instead of np.NaN;\n",
    "        - `source` would be fine as just inner text of anchor tag;\n",
    "        - `source` could be categorical;\n",
    "        - `timestamp` and `retweeted_status_timestamp` are objects, but represent datetimes;\n",
    "        - `rating_denominator` is not always 10;\n",
    "    - image_predictions:\n",
    "        - In column names p1, p2, p3 should be prediction1, prediction2, prediction3;\n",
    "        - In column names conf should be conficende;\n",
    "        - Predicted breed capitalization varies;\n",
    "        - Predicted breeds are with underscores insted of spaces;\n",
    "    - extended_tweets:\n",
    "        - `in_reply_to_status_id` and `in_reply_to_user_id` should be integers (or at least be represented in non-scientific notation);\n",
    "        - `source` has same issues as in tweets archive;\n",
    "        - `user_id` has single unique value;\n",
    "    - users:\n",
    "        - Turns out all tweets came from one user. This dataset is useless;\n",
    "\n",
    "## Cleaning\n",
    "\n",
    "Actions to address found problems:\n",
    "- In image prediction column names replace p1, p2, p3 with prediction1, prediction2, prediction3;\n",
    "- In image prediction  column names replace conf to confidence;\n",
    "- In columns `name`, `doggo`, `floofer`, `pupper`, `puppo` replace 'None' with np.NaN;\n",
    "- Melt `doggo`, `floofer`, `pupper`, `puppo` column into `stage` column;\n",
    "- Merge tweet archive, extended tweets and image predictions into single dataset;\n",
    "- Calculate `rating_with_denominator_10` column;\n",
    "- Replace false dog names (captured in `not_names`) with np.NaN;\n",
    "- Extract inner text of anchor tag in `source` and replace the value with it;\n",
    "- Replace underscores in breed predictions and lowercase it;\n",
    "- Convert `source` to category;\n",
    "- Convert `timestamp` and `retweeted_status_timestamp` to datetime;\n",
    "- Convert `retweeted_status_id`, `retweeted_status_user_id`, `in_reply_to_status_id` and `in_reply_to_user_id` to strings (I'd rather have them as integers, but we [can't have NAs in integer series](http://pandas.pydata.org/pandas-docs/stable/gotchas.html#support-for-integer-na), and these are identifier values, so representation is important);\n",
    "- Drop `user_id`;\n"
   ]
  }
 ],
 "metadata": {
  "kernelspec": {
   "display_name": "Python 3",
   "language": "python",
   "name": "python3"
  },
  "language_info": {
   "codemirror_mode": {
    "name": "ipython",
    "version": 3
   },
   "file_extension": ".py",
   "mimetype": "text/x-python",
   "name": "python",
   "nbconvert_exporter": "python",
   "pygments_lexer": "ipython3",
   "version": "3.6.4"
  }
 },
 "nbformat": 4,
 "nbformat_minor": 2
}
