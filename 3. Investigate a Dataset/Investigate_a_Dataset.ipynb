{
 "cells": [
  {
   "cell_type": "markdown",
   "metadata": {},
   "source": [
    "# Project: Investigate a Medical Appointment No Shows Dataset\n",
    "\n",
    "## Table of Contents\n",
    "<ul>\n",
    "<li><a href=\"#intro\">Introduction</a></li>\n",
    "<li><a href=\"#wrangling\">Data Wrangling</a></li>\n",
    "<li><a href=\"#eda\">Exploratory Data Analysis</a></li>\n",
    "    <li><a href=\"#rq1\">Research Question 1</a></li>\n",
    "    <li><a href=\"#rq2\">Research Question 2</a></li>\n",
    "    <li><a href=\"#rq3\">Research Question 3</a></li>\n",
    "    <li><a href=\"#rq4\">Research Question 4</a></li>\n",
    "    <li><a href=\"#rq5\">Research Question 5</a></li>\n",
    "<li><a href=\"#conclusions\">Conclusions</a></li>\n",
    "</ul>"
   ]
  },
  {
   "cell_type": "markdown",
   "metadata": {},
   "source": [
    "<a id='intro'></a>\n",
    "## Introduction\n",
    "\n",
    "The dataset I chose is [Medical Appointment No Shows dataset from Kaggle](https://www.kaggle.com/joniarroba/noshowappointments). It has below features, holding variables about patien scheduled appointments in Brasil. Main feature is `No-Show` telling us if patient showed up to scheduled appointment or not.\n",
    "\n",
    "* `PatientId` - Identification of a patient;\n",
    "* `AppointmentID` - Identification of each appointment;\n",
    "* `Gender` - M=Male, F=Female;\n",
    "* `AppointmentDay` - The scheduled day of appointment;\n",
    "* `ScheduledDay` - The day when appointment was scheduled;\n",
    "* `Age` - How old is the patient;\n",
    "* `Neighbourhood` - Where the appointment takes place;\n",
    "* `Scholarship` - 1=Ture, 0=False;\n",
    "* `Hipertension` - 1=Ture, 0=False;\n",
    "* `Diabetes` - 1=Ture, 0=False;\n",
    "* `Alcoholism` - 1=Ture, 0=False;\n",
    "* `Handcap` - 0 to 4, 0=No handicap;\n",
    "* `SMS_received` - 1=Ture, 0=False;\n",
    "* `No-show` - No=Showed up, Yes=Did not show up.\n",
    "\n",
    "### Questions about this dataset:\n",
    "* Which features have strongest correlation with `No-show`?\n",
    "* Is there association between medical conditions reported in this dataset and `No-show`?\n",
    "* How `No-Show` changes when date difference between `ScheduledDay` and `AppointmentDay` increases?\n",
    "* Does `No-show` tend to be different on different days of week?\n",
    "* Are there any neighborhoods with significantly larger or lower `No-show` rate?"
   ]
  },
  {
   "cell_type": "code",
   "execution_count": 1,
   "metadata": {},
   "outputs": [],
   "source": [
    "import sys\n",
    "import pandas as pd\n",
    "import numpy as np\n",
    "from scipy.stats import ttest_ind\n",
    "from matplotlib import pyplot as plt, gridspec\n",
    "import seaborn as sns\n",
    "\n",
    "sns.set(style = \"whitegrid\", color_codes = True)\n",
    "\n",
    "%matplotlib inline"
   ]
  },
  {
   "cell_type": "markdown",
   "metadata": {},
   "source": [
    "<a id='wrangling'></a>\n",
    "## Data Wrangling\n",
    "\n",
    "Let's load the data and see what we can learn without in-depth analysis.\n",
    "\n",
    "### General Properties"
   ]
  },
  {
   "cell_type": "code",
   "execution_count": 2,
   "metadata": {},
   "outputs": [
    {
     "data": {
      "text/html": [
       "<div>\n",
       "<style scoped>\n",
       "    .dataframe tbody tr th:only-of-type {\n",
       "        vertical-align: middle;\n",
       "    }\n",
       "\n",
       "    .dataframe tbody tr th {\n",
       "        vertical-align: top;\n",
       "    }\n",
       "\n",
       "    .dataframe thead th {\n",
       "        text-align: right;\n",
       "    }\n",
       "</style>\n",
       "<table border=\"1\" class=\"dataframe\">\n",
       "  <thead>\n",
       "    <tr style=\"text-align: right;\">\n",
       "      <th></th>\n",
       "      <th>PatientId</th>\n",
       "      <th>AppointmentID</th>\n",
       "      <th>Gender</th>\n",
       "      <th>ScheduledDay</th>\n",
       "      <th>AppointmentDay</th>\n",
       "      <th>Age</th>\n",
       "      <th>Neighbourhood</th>\n",
       "      <th>Scholarship</th>\n",
       "      <th>Hipertension</th>\n",
       "      <th>Diabetes</th>\n",
       "      <th>Alcoholism</th>\n",
       "      <th>Handcap</th>\n",
       "      <th>SMS_received</th>\n",
       "      <th>No-show</th>\n",
       "    </tr>\n",
       "  </thead>\n",
       "  <tbody>\n",
       "    <tr>\n",
       "      <th>0</th>\n",
       "      <td>2.987250e+13</td>\n",
       "      <td>5642903</td>\n",
       "      <td>F</td>\n",
       "      <td>2016-04-29T18:38:08Z</td>\n",
       "      <td>2016-04-29T00:00:00Z</td>\n",
       "      <td>62</td>\n",
       "      <td>JARDIM DA PENHA</td>\n",
       "      <td>0</td>\n",
       "      <td>1</td>\n",
       "      <td>0</td>\n",
       "      <td>0</td>\n",
       "      <td>0</td>\n",
       "      <td>0</td>\n",
       "      <td>No</td>\n",
       "    </tr>\n",
       "    <tr>\n",
       "      <th>1</th>\n",
       "      <td>5.589978e+14</td>\n",
       "      <td>5642503</td>\n",
       "      <td>M</td>\n",
       "      <td>2016-04-29T16:08:27Z</td>\n",
       "      <td>2016-04-29T00:00:00Z</td>\n",
       "      <td>56</td>\n",
       "      <td>JARDIM DA PENHA</td>\n",
       "      <td>0</td>\n",
       "      <td>0</td>\n",
       "      <td>0</td>\n",
       "      <td>0</td>\n",
       "      <td>0</td>\n",
       "      <td>0</td>\n",
       "      <td>No</td>\n",
       "    </tr>\n",
       "    <tr>\n",
       "      <th>2</th>\n",
       "      <td>4.262962e+12</td>\n",
       "      <td>5642549</td>\n",
       "      <td>F</td>\n",
       "      <td>2016-04-29T16:19:04Z</td>\n",
       "      <td>2016-04-29T00:00:00Z</td>\n",
       "      <td>62</td>\n",
       "      <td>MATA DA PRAIA</td>\n",
       "      <td>0</td>\n",
       "      <td>0</td>\n",
       "      <td>0</td>\n",
       "      <td>0</td>\n",
       "      <td>0</td>\n",
       "      <td>0</td>\n",
       "      <td>No</td>\n",
       "    </tr>\n",
       "    <tr>\n",
       "      <th>3</th>\n",
       "      <td>8.679512e+11</td>\n",
       "      <td>5642828</td>\n",
       "      <td>F</td>\n",
       "      <td>2016-04-29T17:29:31Z</td>\n",
       "      <td>2016-04-29T00:00:00Z</td>\n",
       "      <td>8</td>\n",
       "      <td>PONTAL DE CAMBURI</td>\n",
       "      <td>0</td>\n",
       "      <td>0</td>\n",
       "      <td>0</td>\n",
       "      <td>0</td>\n",
       "      <td>0</td>\n",
       "      <td>0</td>\n",
       "      <td>No</td>\n",
       "    </tr>\n",
       "    <tr>\n",
       "      <th>4</th>\n",
       "      <td>8.841186e+12</td>\n",
       "      <td>5642494</td>\n",
       "      <td>F</td>\n",
       "      <td>2016-04-29T16:07:23Z</td>\n",
       "      <td>2016-04-29T00:00:00Z</td>\n",
       "      <td>56</td>\n",
       "      <td>JARDIM DA PENHA</td>\n",
       "      <td>0</td>\n",
       "      <td>1</td>\n",
       "      <td>1</td>\n",
       "      <td>0</td>\n",
       "      <td>0</td>\n",
       "      <td>0</td>\n",
       "      <td>No</td>\n",
       "    </tr>\n",
       "  </tbody>\n",
       "</table>\n",
       "</div>"
      ],
      "text/plain": [
       "      PatientId  AppointmentID Gender          ScheduledDay  \\\n",
       "0  2.987250e+13        5642903      F  2016-04-29T18:38:08Z   \n",
       "1  5.589978e+14        5642503      M  2016-04-29T16:08:27Z   \n",
       "2  4.262962e+12        5642549      F  2016-04-29T16:19:04Z   \n",
       "3  8.679512e+11        5642828      F  2016-04-29T17:29:31Z   \n",
       "4  8.841186e+12        5642494      F  2016-04-29T16:07:23Z   \n",
       "\n",
       "         AppointmentDay  Age      Neighbourhood  Scholarship  Hipertension  \\\n",
       "0  2016-04-29T00:00:00Z   62    JARDIM DA PENHA            0             1   \n",
       "1  2016-04-29T00:00:00Z   56    JARDIM DA PENHA            0             0   \n",
       "2  2016-04-29T00:00:00Z   62      MATA DA PRAIA            0             0   \n",
       "3  2016-04-29T00:00:00Z    8  PONTAL DE CAMBURI            0             0   \n",
       "4  2016-04-29T00:00:00Z   56    JARDIM DA PENHA            0             1   \n",
       "\n",
       "   Diabetes  Alcoholism  Handcap  SMS_received No-show  \n",
       "0         0           0        0             0      No  \n",
       "1         0           0        0             0      No  \n",
       "2         0           0        0             0      No  \n",
       "3         0           0        0             0      No  \n",
       "4         1           0        0             0      No  "
      ]
     },
     "execution_count": 2,
     "metadata": {},
     "output_type": "execute_result"
    }
   ],
   "source": [
    "df = pd.read_csv('noshowappointments-kagglev2-may-2016.csv')\n",
    "df.head()"
   ]
  },
  {
   "cell_type": "code",
   "execution_count": 3,
   "metadata": {},
   "outputs": [
    {
     "name": "stdout",
     "output_type": "stream",
     "text": [
      "<class 'pandas.core.frame.DataFrame'>\n",
      "RangeIndex: 110527 entries, 0 to 110526\n",
      "Data columns (total 14 columns):\n",
      "PatientId         110527 non-null float64\n",
      "AppointmentID     110527 non-null int64\n",
      "Gender            110527 non-null object\n",
      "ScheduledDay      110527 non-null object\n",
      "AppointmentDay    110527 non-null object\n",
      "Age               110527 non-null int64\n",
      "Neighbourhood     110527 non-null object\n",
      "Scholarship       110527 non-null int64\n",
      "Hipertension      110527 non-null int64\n",
      "Diabetes          110527 non-null int64\n",
      "Alcoholism        110527 non-null int64\n",
      "Handcap           110527 non-null int64\n",
      "SMS_received      110527 non-null int64\n",
      "No-show           110527 non-null object\n",
      "dtypes: float64(1), int64(8), object(5)\n",
      "memory usage: 11.8+ MB\n"
     ]
    }
   ],
   "source": [
    "df.info()"
   ]
  },
  {
   "cell_type": "markdown",
   "metadata": {},
   "source": [
    "* There are no `null` values in the dataset;\n",
    "* `ApointmentID` and `PatientId` could be integers, but I'd rather have them as strings so pandas treets them as categorical values;\n",
    "* `ScheduledDay` and `AppointmentDay` seem to be string, I'd like them to be dates;\n",
    "* `No-show` could be converted to 0-1 values."
   ]
  },
  {
   "cell_type": "code",
   "execution_count": 4,
   "metadata": {},
   "outputs": [
    {
     "data": {
      "text/html": [
       "<div>\n",
       "<style scoped>\n",
       "    .dataframe tbody tr th:only-of-type {\n",
       "        vertical-align: middle;\n",
       "    }\n",
       "\n",
       "    .dataframe tbody tr th {\n",
       "        vertical-align: top;\n",
       "    }\n",
       "\n",
       "    .dataframe thead th {\n",
       "        text-align: right;\n",
       "    }\n",
       "</style>\n",
       "<table border=\"1\" class=\"dataframe\">\n",
       "  <thead>\n",
       "    <tr style=\"text-align: right;\">\n",
       "      <th></th>\n",
       "      <th>PatientId</th>\n",
       "      <th>AppointmentID</th>\n",
       "      <th>Age</th>\n",
       "      <th>Scholarship</th>\n",
       "      <th>Hipertension</th>\n",
       "      <th>Diabetes</th>\n",
       "      <th>Alcoholism</th>\n",
       "      <th>Handcap</th>\n",
       "      <th>SMS_received</th>\n",
       "    </tr>\n",
       "  </thead>\n",
       "  <tbody>\n",
       "    <tr>\n",
       "      <th>count</th>\n",
       "      <td>1.105270e+05</td>\n",
       "      <td>1.105270e+05</td>\n",
       "      <td>110527.000000</td>\n",
       "      <td>110527.000000</td>\n",
       "      <td>110527.000000</td>\n",
       "      <td>110527.000000</td>\n",
       "      <td>110527.000000</td>\n",
       "      <td>110527.000000</td>\n",
       "      <td>110527.000000</td>\n",
       "    </tr>\n",
       "    <tr>\n",
       "      <th>mean</th>\n",
       "      <td>1.474963e+14</td>\n",
       "      <td>5.675305e+06</td>\n",
       "      <td>37.088874</td>\n",
       "      <td>0.098266</td>\n",
       "      <td>0.197246</td>\n",
       "      <td>0.071865</td>\n",
       "      <td>0.030400</td>\n",
       "      <td>0.022248</td>\n",
       "      <td>0.321026</td>\n",
       "    </tr>\n",
       "    <tr>\n",
       "      <th>std</th>\n",
       "      <td>2.560949e+14</td>\n",
       "      <td>7.129575e+04</td>\n",
       "      <td>23.110205</td>\n",
       "      <td>0.297675</td>\n",
       "      <td>0.397921</td>\n",
       "      <td>0.258265</td>\n",
       "      <td>0.171686</td>\n",
       "      <td>0.161543</td>\n",
       "      <td>0.466873</td>\n",
       "    </tr>\n",
       "    <tr>\n",
       "      <th>min</th>\n",
       "      <td>3.921784e+04</td>\n",
       "      <td>5.030230e+06</td>\n",
       "      <td>-1.000000</td>\n",
       "      <td>0.000000</td>\n",
       "      <td>0.000000</td>\n",
       "      <td>0.000000</td>\n",
       "      <td>0.000000</td>\n",
       "      <td>0.000000</td>\n",
       "      <td>0.000000</td>\n",
       "    </tr>\n",
       "    <tr>\n",
       "      <th>25%</th>\n",
       "      <td>4.172614e+12</td>\n",
       "      <td>5.640286e+06</td>\n",
       "      <td>18.000000</td>\n",
       "      <td>0.000000</td>\n",
       "      <td>0.000000</td>\n",
       "      <td>0.000000</td>\n",
       "      <td>0.000000</td>\n",
       "      <td>0.000000</td>\n",
       "      <td>0.000000</td>\n",
       "    </tr>\n",
       "    <tr>\n",
       "      <th>50%</th>\n",
       "      <td>3.173184e+13</td>\n",
       "      <td>5.680573e+06</td>\n",
       "      <td>37.000000</td>\n",
       "      <td>0.000000</td>\n",
       "      <td>0.000000</td>\n",
       "      <td>0.000000</td>\n",
       "      <td>0.000000</td>\n",
       "      <td>0.000000</td>\n",
       "      <td>0.000000</td>\n",
       "    </tr>\n",
       "    <tr>\n",
       "      <th>75%</th>\n",
       "      <td>9.439172e+13</td>\n",
       "      <td>5.725524e+06</td>\n",
       "      <td>55.000000</td>\n",
       "      <td>0.000000</td>\n",
       "      <td>0.000000</td>\n",
       "      <td>0.000000</td>\n",
       "      <td>0.000000</td>\n",
       "      <td>0.000000</td>\n",
       "      <td>1.000000</td>\n",
       "    </tr>\n",
       "    <tr>\n",
       "      <th>max</th>\n",
       "      <td>9.999816e+14</td>\n",
       "      <td>5.790484e+06</td>\n",
       "      <td>115.000000</td>\n",
       "      <td>1.000000</td>\n",
       "      <td>1.000000</td>\n",
       "      <td>1.000000</td>\n",
       "      <td>1.000000</td>\n",
       "      <td>4.000000</td>\n",
       "      <td>1.000000</td>\n",
       "    </tr>\n",
       "  </tbody>\n",
       "</table>\n",
       "</div>"
      ],
      "text/plain": [
       "          PatientId  AppointmentID            Age    Scholarship  \\\n",
       "count  1.105270e+05   1.105270e+05  110527.000000  110527.000000   \n",
       "mean   1.474963e+14   5.675305e+06      37.088874       0.098266   \n",
       "std    2.560949e+14   7.129575e+04      23.110205       0.297675   \n",
       "min    3.921784e+04   5.030230e+06      -1.000000       0.000000   \n",
       "25%    4.172614e+12   5.640286e+06      18.000000       0.000000   \n",
       "50%    3.173184e+13   5.680573e+06      37.000000       0.000000   \n",
       "75%    9.439172e+13   5.725524e+06      55.000000       0.000000   \n",
       "max    9.999816e+14   5.790484e+06     115.000000       1.000000   \n",
       "\n",
       "        Hipertension       Diabetes     Alcoholism        Handcap  \\\n",
       "count  110527.000000  110527.000000  110527.000000  110527.000000   \n",
       "mean        0.197246       0.071865       0.030400       0.022248   \n",
       "std         0.397921       0.258265       0.171686       0.161543   \n",
       "min         0.000000       0.000000       0.000000       0.000000   \n",
       "25%         0.000000       0.000000       0.000000       0.000000   \n",
       "50%         0.000000       0.000000       0.000000       0.000000   \n",
       "75%         0.000000       0.000000       0.000000       0.000000   \n",
       "max         1.000000       1.000000       1.000000       4.000000   \n",
       "\n",
       "        SMS_received  \n",
       "count  110527.000000  \n",
       "mean        0.321026  \n",
       "std         0.466873  \n",
       "min         0.000000  \n",
       "25%         0.000000  \n",
       "50%         0.000000  \n",
       "75%         1.000000  \n",
       "max         1.000000  "
      ]
     },
     "execution_count": 4,
     "metadata": {},
     "output_type": "execute_result"
    }
   ],
   "source": [
    "df.describe()"
   ]
  },
  {
   "cell_type": "markdown",
   "metadata": {},
   "source": [
    "* Min value of `Age` is -1. This suggests we have some empty values there;\n",
    "* `Scholarship`, `Hipertension`, `Diabetes`, `Alcoholism` have small mean values, informing us these are rare conditions;\n",
    "* `SMS_received` mean of 0.32 informs us 32% patients vere sent SMS reminders. This is lower than expected value. "
   ]
  },
  {
   "cell_type": "code",
   "execution_count": 5,
   "metadata": {},
   "outputs": [
    {
     "data": {
      "text/plain": [
       "PatientId          62299\n",
       "AppointmentID     110527\n",
       "Gender                 2\n",
       "ScheduledDay      103549\n",
       "AppointmentDay        27\n",
       "Age                  104\n",
       "Neighbourhood         81\n",
       "Scholarship            2\n",
       "Hipertension           2\n",
       "Diabetes               2\n",
       "Alcoholism             2\n",
       "Handcap                5\n",
       "SMS_received           2\n",
       "No-show                2\n",
       "dtype: int64"
      ]
     },
     "execution_count": 5,
     "metadata": {},
     "output_type": "execute_result"
    }
   ],
   "source": [
    "# check unique value counts to see if there are any unexpected figures\n",
    "df.nunique()"
   ]
  },
  {
   "cell_type": "markdown",
   "metadata": {},
   "source": [
    "* Number of `PatientId`s is a little over the half of `AppointmentId`s and `AppointmentId`s match row count. That looks fine;\n",
    "* We have 103549 unique `ScheduledDay` values - almost all of them are unique, while we only have 27 unique `AppointmentDay` values. There's something suspicious here;\n",
    "* `Handcap` has 5 unique values. Initially expected to see 2."
   ]
  },
  {
   "cell_type": "code",
   "execution_count": 6,
   "metadata": {},
   "outputs": [
    {
     "name": "stdout",
     "output_type": "stream",
     "text": [
      "['2016-04-29T00:00:00Z' '2016-05-03T00:00:00Z' '2016-05-10T00:00:00Z'\n",
      " '2016-05-17T00:00:00Z' '2016-05-24T00:00:00Z' '2016-05-31T00:00:00Z'\n",
      " '2016-05-02T00:00:00Z' '2016-05-30T00:00:00Z' '2016-05-16T00:00:00Z'\n",
      " '2016-05-04T00:00:00Z' '2016-05-19T00:00:00Z' '2016-05-12T00:00:00Z'\n",
      " '2016-05-06T00:00:00Z' '2016-05-20T00:00:00Z' '2016-05-05T00:00:00Z'\n",
      " '2016-05-13T00:00:00Z' '2016-05-09T00:00:00Z' '2016-05-25T00:00:00Z'\n",
      " '2016-05-11T00:00:00Z' '2016-05-18T00:00:00Z' '2016-05-14T00:00:00Z'\n",
      " '2016-06-02T00:00:00Z' '2016-06-03T00:00:00Z' '2016-06-06T00:00:00Z'\n",
      " '2016-06-07T00:00:00Z' '2016-06-01T00:00:00Z' '2016-06-08T00:00:00Z'] \n",
      "\n",
      "['2016-04-29T18:38:08Z' '2016-04-29T16:08:27Z' '2016-04-29T16:19:04Z'\n",
      " '2016-04-29T17:29:31Z' '2016-04-29T16:07:23Z' '2016-04-27T08:36:51Z'\n",
      " '2016-04-27T15:05:12Z' '2016-04-27T15:39:58Z' '2016-04-29T08:02:16Z'\n",
      " '2016-04-27T12:48:25Z' '2016-04-27T14:58:11Z' '2016-04-26T08:44:12Z'\n",
      " '2016-04-28T11:33:51Z' '2016-04-28T14:52:07Z' '2016-04-28T10:06:24Z'\n",
      " '2016-04-26T08:47:27Z' '2016-04-28T08:51:47Z' '2016-04-28T09:28:57Z'\n",
      " '2016-04-26T10:54:18Z' '2016-04-29T10:43:14Z' '2016-04-27T07:51:14Z'\n",
      " '2016-04-27T10:50:45Z' '2016-04-25T13:29:16Z' '2016-04-28T10:27:05Z'\n",
      " '2016-04-29T14:19:19Z' '2016-04-26T15:04:17Z' '2016-04-29T14:19:42Z'\n",
      " '2016-04-27T10:51:45Z' '2016-04-29T15:48:02Z' '2016-04-29T15:16:29Z'] \n",
      "\n",
      "[0 1 2 3 4]\n"
     ]
    }
   ],
   "source": [
    "# take a closer look at suspicious columns\n",
    "print(df['AppointmentDay'].unique(), '\\n')\n",
    "print(df['ScheduledDay'].unique()[:30], '\\n')\n",
    "print(df['Handcap'].unique())"
   ]
  },
  {
   "cell_type": "markdown",
   "metadata": {},
   "source": [
    "* `AppointmentDay` has no time, while `ScheduledDay` has precise time set;\n",
    "* `Handcap` is a range of integers. Probably some disability scale."
   ]
  },
  {
   "cell_type": "code",
   "execution_count": 7,
   "metadata": {},
   "outputs": [
    {
     "data": {
      "image/png": "[encoded data removed]",
      "text/plain": [
       "<matplotlib.figure.Figure at 0x7fd21805deb8>"
      ]
     },
     "metadata": {},
     "output_type": "display_data"
    }
   ],
   "source": [
    "# check how patients distribute over appointment count tey had\n",
    "# to see if there's a lot of patients that had more than 1 appointment\n",
    "patient_counts_by_appointment_counts = (df.groupby('PatientId')\n",
    "                                       .size()\n",
    "                                       .value_counts()\n",
    "                                       .reset_index()\n",
    "                                       .rename(columns = {'index': 'AppointmentCount',\n",
    "                                                          0: 'PatientCount'})\n",
    "                                       .sort_values('AppointmentCount'))\n",
    "\n",
    "#set plot size\n",
    "fig, ax = plt.subplots(figsize=(20, 6))\n",
    "\n",
    "plt.plot(patient_counts_by_appointment_counts['PatientCount'], \n",
    "         patient_counts_by_appointment_counts['AppointmentCount'],\n",
    "         'o-');"
   ]
  },
  {
   "cell_type": "markdown",
   "metadata": {},
   "source": [
    "It looks like we have a lot of extreme values for how many appointments patients tend to have. Some patients had over 80 appointments over 27 days we have in our dataset. They shouldn't distort analysis results, but it might be a good idea to look at them separately to see if they differ from the rest of sample in any significant way."
   ]
  },
  {
   "cell_type": "markdown",
   "metadata": {},
   "source": [
    "### Data Cleaning\n",
    "\n",
    "Needed improvements to dataset:\n",
    "\n",
    "* `AppointmentID`: rename to `AppointmentId`, convert from int to string;\n",
    "* `PatientId`: convert from float to string;\n",
    "* `ScheduledDay`: convert from string to date, truncate to days;\n",
    "* `AppointmentDay`: convert from string to date;\n",
    "* `No-show`: convert 'yes'-'no' to integer 0-1 (inverse), rename to `Show_up`;\n",
    "* `Handcap`: rename to `Handicap`;\n",
    "* `Age`: Remove rows with `Age` < 0.\n"
   ]
  },
  {
   "cell_type": "code",
   "execution_count": 8,
   "metadata": {},
   "outputs": [],
   "source": [
    "df_cleaned = df"
   ]
  },
  {
   "cell_type": "code",
   "execution_count": 9,
   "metadata": {},
   "outputs": [],
   "source": [
    "# convert data types and rename `No-show`\n",
    "df_cleaned['AppointmentID'] = df_cleaned['AppointmentID'].astype(str)\n",
    "df_cleaned['PatientId'] = df_cleaned['PatientId'].astype(str)\n",
    "df_cleaned['ScheduledDay'] = pd.to_datetime(df_cleaned['ScheduledDay']).dt.floor('d')\n",
    "df_cleaned['AppointmentDay'] = pd.to_datetime(df_cleaned['AppointmentDay'])\n",
    "df_cleaned['Show_up'] = df_cleaned['No-show'].str.lower().str.contains('no').astype(int)\n",
    "df_cleaned = df_cleaned.drop('No-show', axis=1)\n",
    "df_cleaned.rename(columns = {'Handcap': 'Handicap',\n",
    "                             'AppointmentID': 'AppointmentId'},\n",
    "                  inplace = True)"
   ]
  },
  {
   "cell_type": "code",
   "execution_count": 10,
   "metadata": {},
   "outputs": [],
   "source": [
    "# remove rows with invalid `Age`\n",
    "df_cleaned = df_cleaned.query('Age >= 0')"
   ]
  },
  {
   "cell_type": "code",
   "execution_count": 11,
   "metadata": {},
   "outputs": [
    {
     "data": {
      "text/html": [
       "<div>\n",
       "<style scoped>\n",
       "    .dataframe tbody tr th:only-of-type {\n",
       "        vertical-align: middle;\n",
       "    }\n",
       "\n",
       "    .dataframe tbody tr th {\n",
       "        vertical-align: top;\n",
       "    }\n",
       "\n",
       "    .dataframe thead th {\n",
       "        text-align: right;\n",
       "    }\n",
       "</style>\n",
       "<table border=\"1\" class=\"dataframe\">\n",
       "  <thead>\n",
       "    <tr style=\"text-align: right;\">\n",
       "      <th></th>\n",
       "      <th>PatientId</th>\n",
       "      <th>AppointmentId</th>\n",
       "      <th>Gender</th>\n",
       "      <th>ScheduledDay</th>\n",
       "      <th>AppointmentDay</th>\n",
       "      <th>Age</th>\n",
       "      <th>Neighbourhood</th>\n",
       "      <th>Scholarship</th>\n",
       "      <th>Hipertension</th>\n",
       "      <th>Diabetes</th>\n",
       "      <th>Alcoholism</th>\n",
       "      <th>Handicap</th>\n",
       "      <th>SMS_received</th>\n",
       "      <th>Show_up</th>\n",
       "    </tr>\n",
       "  </thead>\n",
       "  <tbody>\n",
       "    <tr>\n",
       "      <th>0</th>\n",
       "      <td>2.98724998243e+13</td>\n",
       "      <td>5642903</td>\n",
       "      <td>F</td>\n",
       "      <td>2016-04-29</td>\n",
       "      <td>2016-04-29</td>\n",
       "      <td>62</td>\n",
       "      <td>JARDIM DA PENHA</td>\n",
       "      <td>0</td>\n",
       "      <td>1</td>\n",
       "      <td>0</td>\n",
       "      <td>0</td>\n",
       "      <td>0</td>\n",
       "      <td>0</td>\n",
       "      <td>1</td>\n",
       "    </tr>\n",
       "    <tr>\n",
       "      <th>1</th>\n",
       "      <td>5.58997776694e+14</td>\n",
       "      <td>5642503</td>\n",
       "      <td>M</td>\n",
       "      <td>2016-04-29</td>\n",
       "      <td>2016-04-29</td>\n",
       "      <td>56</td>\n",
       "      <td>JARDIM DA PENHA</td>\n",
       "      <td>0</td>\n",
       "      <td>0</td>\n",
       "      <td>0</td>\n",
       "      <td>0</td>\n",
       "      <td>0</td>\n",
       "      <td>0</td>\n",
       "      <td>1</td>\n",
       "    </tr>\n",
       "    <tr>\n",
       "      <th>2</th>\n",
       "      <td>4.26296229995e+12</td>\n",
       "      <td>5642549</td>\n",
       "      <td>F</td>\n",
       "      <td>2016-04-29</td>\n",
       "      <td>2016-04-29</td>\n",
       "      <td>62</td>\n",
       "      <td>MATA DA PRAIA</td>\n",
       "      <td>0</td>\n",
       "      <td>0</td>\n",
       "      <td>0</td>\n",
       "      <td>0</td>\n",
       "      <td>0</td>\n",
       "      <td>0</td>\n",
       "      <td>1</td>\n",
       "    </tr>\n",
       "    <tr>\n",
       "      <th>3</th>\n",
       "      <td>867951213174.0</td>\n",
       "      <td>5642828</td>\n",
       "      <td>F</td>\n",
       "      <td>2016-04-29</td>\n",
       "      <td>2016-04-29</td>\n",
       "      <td>8</td>\n",
       "      <td>PONTAL DE CAMBURI</td>\n",
       "      <td>0</td>\n",
       "      <td>0</td>\n",
       "      <td>0</td>\n",
       "      <td>0</td>\n",
       "      <td>0</td>\n",
       "      <td>0</td>\n",
       "      <td>1</td>\n",
       "    </tr>\n",
       "    <tr>\n",
       "      <th>4</th>\n",
       "      <td>8.84118644818e+12</td>\n",
       "      <td>5642494</td>\n",
       "      <td>F</td>\n",
       "      <td>2016-04-29</td>\n",
       "      <td>2016-04-29</td>\n",
       "      <td>56</td>\n",
       "      <td>JARDIM DA PENHA</td>\n",
       "      <td>0</td>\n",
       "      <td>1</td>\n",
       "      <td>1</td>\n",
       "      <td>0</td>\n",
       "      <td>0</td>\n",
       "      <td>0</td>\n",
       "      <td>1</td>\n",
       "    </tr>\n",
       "  </tbody>\n",
       "</table>\n",
       "</div>"
      ],
      "text/plain": [
       "           PatientId AppointmentId Gender ScheduledDay AppointmentDay  Age  \\\n",
       "0  2.98724998243e+13       5642903      F   2016-04-29     2016-04-29   62   \n",
       "1  5.58997776694e+14       5642503      M   2016-04-29     2016-04-29   56   \n",
       "2  4.26296229995e+12       5642549      F   2016-04-29     2016-04-29   62   \n",
       "3     867951213174.0       5642828      F   2016-04-29     2016-04-29    8   \n",
       "4  8.84118644818e+12       5642494      F   2016-04-29     2016-04-29   56   \n",
       "\n",
       "       Neighbourhood  Scholarship  Hipertension  Diabetes  Alcoholism  \\\n",
       "0    JARDIM DA PENHA            0             1         0           0   \n",
       "1    JARDIM DA PENHA            0             0         0           0   \n",
       "2      MATA DA PRAIA            0             0         0           0   \n",
       "3  PONTAL DE CAMBURI            0             0         0           0   \n",
       "4    JARDIM DA PENHA            0             1         1           0   \n",
       "\n",
       "   Handicap  SMS_received  Show_up  \n",
       "0         0             0        1  \n",
       "1         0             0        1  \n",
       "2         0             0        1  \n",
       "3         0             0        1  \n",
       "4         0             0        1  "
      ]
     },
     "execution_count": 11,
     "metadata": {},
     "output_type": "execute_result"
    }
   ],
   "source": [
    "# peek at dataset changes\n",
    "df_cleaned.head()"
   ]
  },
  {
   "cell_type": "code",
   "execution_count": 12,
   "metadata": {},
   "outputs": [
    {
     "name": "stdout",
     "output_type": "stream",
     "text": [
      "<class 'pandas.core.frame.DataFrame'>\n",
      "Int64Index: 110526 entries, 0 to 110526\n",
      "Data columns (total 14 columns):\n",
      "PatientId         110526 non-null object\n",
      "AppointmentId     110526 non-null object\n",
      "Gender            110526 non-null object\n",
      "ScheduledDay      110526 non-null datetime64[ns]\n",
      "AppointmentDay    110526 non-null datetime64[ns]\n",
      "Age               110526 non-null int64\n",
      "Neighbourhood     110526 non-null object\n",
      "Scholarship       110526 non-null int64\n",
      "Hipertension      110526 non-null int64\n",
      "Diabetes          110526 non-null int64\n",
      "Alcoholism        110526 non-null int64\n",
      "Handicap          110526 non-null int64\n",
      "SMS_received      110526 non-null int64\n",
      "Show_up           110526 non-null int64\n",
      "dtypes: datetime64[ns](2), int64(8), object(4)\n",
      "memory usage: 12.6+ MB\n"
     ]
    }
   ],
   "source": [
    "df_cleaned.info()"
   ]
  },
  {
   "cell_type": "code",
   "execution_count": 13,
   "metadata": {},
   "outputs": [
    {
     "data": {
      "text/html": [
       "<div>\n",
       "<style scoped>\n",
       "    .dataframe tbody tr th:only-of-type {\n",
       "        vertical-align: middle;\n",
       "    }\n",
       "\n",
       "    .dataframe tbody tr th {\n",
       "        vertical-align: top;\n",
       "    }\n",
       "\n",
       "    .dataframe thead th {\n",
       "        text-align: right;\n",
       "    }\n",
       "</style>\n",
       "<table border=\"1\" class=\"dataframe\">\n",
       "  <thead>\n",
       "    <tr style=\"text-align: right;\">\n",
       "      <th></th>\n",
       "      <th>Age</th>\n",
       "      <th>Scholarship</th>\n",
       "      <th>Hipertension</th>\n",
       "      <th>Diabetes</th>\n",
       "      <th>Alcoholism</th>\n",
       "      <th>Handicap</th>\n",
       "      <th>SMS_received</th>\n",
       "      <th>Show_up</th>\n",
       "    </tr>\n",
       "  </thead>\n",
       "  <tbody>\n",
       "    <tr>\n",
       "      <th>count</th>\n",
       "      <td>110526.000000</td>\n",
       "      <td>110526.000000</td>\n",
       "      <td>110526.000000</td>\n",
       "      <td>110526.000000</td>\n",
       "      <td>110526.000000</td>\n",
       "      <td>110526.000000</td>\n",
       "      <td>110526.000000</td>\n",
       "      <td>110526.000000</td>\n",
       "    </tr>\n",
       "    <tr>\n",
       "      <th>mean</th>\n",
       "      <td>37.089219</td>\n",
       "      <td>0.098266</td>\n",
       "      <td>0.197248</td>\n",
       "      <td>0.071865</td>\n",
       "      <td>0.030400</td>\n",
       "      <td>0.022248</td>\n",
       "      <td>0.321029</td>\n",
       "      <td>0.798066</td>\n",
       "    </tr>\n",
       "    <tr>\n",
       "      <th>std</th>\n",
       "      <td>23.110026</td>\n",
       "      <td>0.297676</td>\n",
       "      <td>0.397923</td>\n",
       "      <td>0.258266</td>\n",
       "      <td>0.171686</td>\n",
       "      <td>0.161543</td>\n",
       "      <td>0.466874</td>\n",
       "      <td>0.401445</td>\n",
       "    </tr>\n",
       "    <tr>\n",
       "      <th>min</th>\n",
       "      <td>0.000000</td>\n",
       "      <td>0.000000</td>\n",
       "      <td>0.000000</td>\n",
       "      <td>0.000000</td>\n",
       "      <td>0.000000</td>\n",
       "      <td>0.000000</td>\n",
       "      <td>0.000000</td>\n",
       "      <td>0.000000</td>\n",
       "    </tr>\n",
       "    <tr>\n",
       "      <th>25%</th>\n",
       "      <td>18.000000</td>\n",
       "      <td>0.000000</td>\n",
       "      <td>0.000000</td>\n",
       "      <td>0.000000</td>\n",
       "      <td>0.000000</td>\n",
       "      <td>0.000000</td>\n",
       "      <td>0.000000</td>\n",
       "      <td>1.000000</td>\n",
       "    </tr>\n",
       "    <tr>\n",
       "      <th>50%</th>\n",
       "      <td>37.000000</td>\n",
       "      <td>0.000000</td>\n",
       "      <td>0.000000</td>\n",
       "      <td>0.000000</td>\n",
       "      <td>0.000000</td>\n",
       "      <td>0.000000</td>\n",
       "      <td>0.000000</td>\n",
       "      <td>1.000000</td>\n",
       "    </tr>\n",
       "    <tr>\n",
       "      <th>75%</th>\n",
       "      <td>55.000000</td>\n",
       "      <td>0.000000</td>\n",
       "      <td>0.000000</td>\n",
       "      <td>0.000000</td>\n",
       "      <td>0.000000</td>\n",
       "      <td>0.000000</td>\n",
       "      <td>1.000000</td>\n",
       "      <td>1.000000</td>\n",
       "    </tr>\n",
       "    <tr>\n",
       "      <th>max</th>\n",
       "      <td>115.000000</td>\n",
       "      <td>1.000000</td>\n",
       "      <td>1.000000</td>\n",
       "      <td>1.000000</td>\n",
       "      <td>1.000000</td>\n",
       "      <td>4.000000</td>\n",
       "      <td>1.000000</td>\n",
       "      <td>1.000000</td>\n",
       "    </tr>\n",
       "  </tbody>\n",
       "</table>\n",
       "</div>"
      ],
      "text/plain": [
       "                 Age    Scholarship   Hipertension       Diabetes  \\\n",
       "count  110526.000000  110526.000000  110526.000000  110526.000000   \n",
       "mean       37.089219       0.098266       0.197248       0.071865   \n",
       "std        23.110026       0.297676       0.397923       0.258266   \n",
       "min         0.000000       0.000000       0.000000       0.000000   \n",
       "25%        18.000000       0.000000       0.000000       0.000000   \n",
       "50%        37.000000       0.000000       0.000000       0.000000   \n",
       "75%        55.000000       0.000000       0.000000       0.000000   \n",
       "max       115.000000       1.000000       1.000000       1.000000   \n",
       "\n",
       "          Alcoholism       Handicap   SMS_received        Show_up  \n",
       "count  110526.000000  110526.000000  110526.000000  110526.000000  \n",
       "mean        0.030400       0.022248       0.321029       0.798066  \n",
       "std         0.171686       0.161543       0.466874       0.401445  \n",
       "min         0.000000       0.000000       0.000000       0.000000  \n",
       "25%         0.000000       0.000000       0.000000       1.000000  \n",
       "50%         0.000000       0.000000       0.000000       1.000000  \n",
       "75%         0.000000       0.000000       1.000000       1.000000  \n",
       "max         1.000000       4.000000       1.000000       1.000000  "
      ]
     },
     "execution_count": 13,
     "metadata": {},
     "output_type": "execute_result"
    }
   ],
   "source": [
    "df_cleaned.describe()"
   ]
  },
  {
   "cell_type": "markdown",
   "metadata": {},
   "source": [
    "<a id='eda'></a>\n",
    "## Exploratory Data Analysis\n",
    "\n",
    "Let's start by adding some calculated columns to the dataset:\n",
    "\n",
    "* `Appointment_day_of_week` to keep track of on what day of week appointment was scheduled;\n",
    "* `Wait_days` to keep track of how many days patient had to wait for the appointment (difference between `ScheduleDay` and `AppointmentDay`)."
   ]
  },
  {
   "cell_type": "code",
   "execution_count": 14,
   "metadata": {},
   "outputs": [],
   "source": [
    "df_cleaned['Appointment_day_of_week'] = df_cleaned['AppointmentDay'].dt.weekday\n",
    "df_cleaned['Appointment_day_of_week_name'] = df_cleaned['AppointmentDay'].dt.weekday_name\n",
    "df_cleaned['Wait_days'] = ((df_cleaned['AppointmentDay'] - df_cleaned['ScheduledDay']) / pd.offsets.Day(1)).astype(int)"
   ]
  },
  {
   "cell_type": "code",
   "execution_count": 15,
   "metadata": {},
   "outputs": [
    {
     "data": {
      "text/plain": [
       "5"
      ]
     },
     "execution_count": 15,
     "metadata": {},
     "output_type": "execute_result"
    }
   ],
   "source": [
    "# use our new column to see if there's any appointment scheduled after the fact\n",
    "df_cleaned.query('Wait_days < 0')['AppointmentId'].count()"
   ]
  },
  {
   "cell_type": "markdown",
   "metadata": {},
   "source": [
    "5 rows with `AppointmentDay` ahead of `ScheduledDay`. These need removing."
   ]
  },
  {
   "cell_type": "code",
   "execution_count": 16,
   "metadata": {},
   "outputs": [],
   "source": [
    "df_cleaned = df_cleaned.query('Wait_days >= 0')"
   ]
  },
  {
   "cell_type": "markdown",
   "metadata": {},
   "source": [
    "<a id=\"rq1\"></a>\n",
    "### Research Question 1: Which features have strongest correlation with `Show_up`?"
   ]
  },
  {
   "cell_type": "code",
   "execution_count": 95,
   "metadata": {},
   "outputs": [
    {
     "data": {
      "text/plain": [
       "Wait_days                 -0.186320\n",
       "SMS_received              -0.126502\n",
       "Age                        0.060320\n",
       "Hipertension               0.035662\n",
       "Scholarship               -0.029166\n",
       "Diabetes                   0.015158\n",
       "Handicap                   0.006290\n",
       "Appointment_day_of_week   -0.001189\n",
       "Alcoholism                 0.000181\n",
       "Name: Show_up, dtype: float64"
      ]
     },
     "execution_count": 95,
     "metadata": {},
     "output_type": "execute_result"
    }
   ],
   "source": [
    "# Compute the correlation matrix\n",
    "corr = df_cleaned.corr()\n",
    "# extract `Show_up` correlations to other features\n",
    "corrr = corr.loc[:, ['Show_up']]\n",
    "corrr['abs'] = corrr['Show_up'].abs()\n",
    "corrr.sort_values('abs', ascending=False).query('index != \"Show_up\"')['Show_up']"
   ]
  },
  {
   "cell_type": "markdown",
   "metadata": {},
   "source": [
    "From the above numbers it looks like `Wait_days` and `SMS_received` have strongest correlation with `Show_up` and both correlations are negative. \n",
    "\n",
    "We can also see much smaller, but positive, `Show_up` correlations with `Age` and medical conditions.\n",
    "\n",
    "Let's generate correlation heat map from correlation matrix and look at how these features relate to each other."
   ]
  },
  {
   "cell_type": "code",
   "execution_count": 18,
   "metadata": {},
   "outputs": [
    {
     "data": {
      "image/png": "[encoded data removed]",
      "text/plain": [
       "<matplotlib.figure.Figure at 0x7fd213f57128>"
      ]
     },
     "metadata": {},
     "output_type": "display_data"
    }
   ],
   "source": [
    "# Generate a mask for the upper triangle\n",
    "mask = np.zeros_like(corr, dtype=np.bool)\n",
    "mask[np.triu_indices_from(mask)] = True\n",
    "\n",
    "# Set up the matplotlib figure\n",
    "f, ax = plt.subplots(figsize=(9, 7))\n",
    "\n",
    "# Generate a custom diverging colormap\n",
    "cmap = sns.diverging_palette(220, 10, as_cmap=True)\n",
    "\n",
    "# Draw the heatmap with the mask and correct aspect ratio\n",
    "sns.heatmap(corr,\n",
    "            mask=mask,\n",
    "            cmap=cmap,\n",
    "            vmax=.3,\n",
    "            center=0,\n",
    "            square=True,\n",
    "            linewidths=.5,\n",
    "            cbar_kws={\"shrink\": .5});"
   ]
  },
  {
   "cell_type": "markdown",
   "metadata": {},
   "source": [
    "In above heat map we can see that `SMS_received` has strong positive relationship with `Wait_days`. It's safe to assume that longer waiting patients are more likely to receive SMS messages. \n",
    "\n",
    "Let's see  if that's the case and wether long waiting patients are more likely to show up if they received an SMS reminder."
   ]
  },
  {
   "cell_type": "code",
   "execution_count": 19,
   "metadata": {},
   "outputs": [
    {
     "data": {
      "image/png": "[encoded data removed]",
      "text/plain": [
       "<matplotlib.figure.Figure at 0x7fd213f24ba8>"
      ]
     },
     "metadata": {},
     "output_type": "display_data"
    }
   ],
   "source": [
    "# create dataset with fractions of `SMS_received` and `Show_up` based on `Wait_days`\n",
    "df_wait_days = df_cleaned[['Wait_days', 'SMS_received']].groupby('Wait_days').mean().reset_index()\n",
    "\n",
    "#set plot size\n",
    "fig, ax = plt.subplots(figsize=(20, 6))\n",
    "\n",
    "# plot `SMS_received` against `Wait_days`\n",
    "plt.plot(df_wait_days['Wait_days'], df_wait_days['SMS_received'], 'bo');"
   ]
  },
  {
   "cell_type": "code",
   "execution_count": 20,
   "metadata": {},
   "outputs": [
    {
     "data": {
      "image/png": "[encoded data removed]",
      "text/plain": [
       "<matplotlib.figure.Figure at 0x7fd213c762b0>"
      ]
     },
     "metadata": {},
     "output_type": "display_data"
    }
   ],
   "source": [
    "# extract mean `Show_up` based on `Wait_days` and `SMS_received`\n",
    "df_received = df_cleaned.query('SMS_received == 1')[['Wait_days', 'Show_up']].groupby('Wait_days').mean()\n",
    "df_not_received = df_cleaned.query('SMS_received == 0')[['Wait_days', 'Show_up']].groupby('Wait_days').mean()\n",
    "\n",
    "# calculate how much more likely notified patients are to show up\n",
    "df_show_up_notified = (df_received['Show_up'] - df_not_received['Show_up']).reset_index()\n",
    "\n",
    "#set plot size\n",
    "fig, ax = plt.subplots(figsize=(20, 6))\n",
    "\n",
    "# plot how much more likely patients that received reminder were to show up based on wait time\n",
    "g = sns.barplot(data=df_show_up_notified, x='Wait_days', y='Show_up', color='b')\n",
    "g.set_xticklabels(rotation = 90, labels = df_show_up_notified['Wait_days']);"
   ]
  },
  {
   "cell_type": "markdown",
   "metadata": {},
   "source": [
    "We can see that notified patients are more likely to show up, but as `Wait_days` grow relationship between `SMS_received` and `Show_up` weakens."
   ]
  },
  {
   "cell_type": "markdown",
   "metadata": {},
   "source": [
    "<a id=\"rq2\"></a>\n",
    "### Research Question 2: Is there association between medical conditions reported in this dataset and `Show_up`?\n",
    "\n",
    "As we already seen in correlation heatmap that medical conditions have very weak correlation to `Show_up`, let'scheck if there's a difference between long waiting and short waiting patients based on `Wait_days`. Let's use 25 days as a cut-off point for long wait."
   ]
  },
  {
   "cell_type": "code",
   "execution_count": 21,
   "metadata": {},
   "outputs": [
    {
     "data": {
      "text/plain": [
       "Wait_days                 -0.245672\n",
       "SMS_received              -0.134359\n",
       "Age                        0.048810\n",
       "Scholarship               -0.031210\n",
       "Hipertension               0.027942\n",
       "Diabetes                   0.010035\n",
       "Appointment_day_of_week   -0.010000\n",
       "Handicap                   0.003328\n",
       "Alcoholism                -0.001742\n",
       "Name: Show_up, dtype: float64"
      ]
     },
     "execution_count": 21,
     "metadata": {},
     "output_type": "execute_result"
    }
   ],
   "source": [
    "# get short waiting patients\n",
    "df_lt_25d = df_cleaned.query('Wait_days < 25')\n",
    "\n",
    "# compute correlateion matrix\n",
    "corr_df_lt_25d = df_lt_25d.corr()\n",
    "\n",
    "# extract `Show_up` correlations to other features\n",
    "corr_df_lt_25d_show_up = corr_df_lt_25d.loc[:, ['Show_up']]\n",
    "corr_df_lt_25d_show_up['abs'] = corr_df_lt_25d_show_up['Show_up'].abs()\n",
    "corr_df_lt_25d_show_up.sort_values('abs', ascending=False).query('index != \"Show_up\"')['Show_up']"
   ]
  },
  {
   "cell_type": "code",
   "execution_count": 22,
   "metadata": {},
   "outputs": [
    {
     "data": {
      "text/plain": [
       "Age                        0.121258\n",
       "SMS_received               0.072362\n",
       "Hipertension               0.046948\n",
       "Scholarship               -0.046546\n",
       "Appointment_day_of_week    0.026177\n",
       "Wait_days                  0.022241\n",
       "Alcoholism                -0.017126\n",
       "Diabetes                   0.015364\n",
       "Handicap                   0.007939\n",
       "Name: Show_up, dtype: float64"
      ]
     },
     "execution_count": 22,
     "metadata": {},
     "output_type": "execute_result"
    }
   ],
   "source": [
    "# get long waiting patients\n",
    "df_gte_25d = df_cleaned.query('Wait_days >= 25')\n",
    "\n",
    "# compute correlateion matrixes\n",
    "corr_df_gte_25d = df_gte_25d.corr()\n",
    "\n",
    "# extract `Show_up` correlations to other features\n",
    "corr_df_gte_25d_show_up = corr_df_gte_25d.loc[:, ['Show_up']]\n",
    "corr_df_gte_25d_show_up['abs'] = corr_df_gte_25d_show_up['Show_up'].abs()\n",
    "corr_df_gte_25d_show_up.sort_values('abs', ascending=False).query('index != \"Show_up\"')['Show_up']"
   ]
  },
  {
   "cell_type": "markdown",
   "metadata": {},
   "source": [
    "* It looks like relationship strengths to `Show_up` of all features are weaker in a long waiting group.\n",
    "* In short waiting group strongest relationship is `Wait_days`;\n",
    "* In long waiting group strongest relationship is `Age`;\n",
    "* What's interesting is `Wait_days` becomes a positive relationship in long waiting group;\n",
    "\n",
    "Let's compare both groups visually in a bar plot."
   ]
  },
  {
   "cell_type": "code",
   "execution_count": 100,
   "metadata": {},
   "outputs": [
    {
     "data": {
      "image/png": "[encoded data removed]",
      "text/plain": [
       "<matplotlib.figure.Figure at 0x7fd2138b8e48>"
      ]
     },
     "metadata": {},
     "output_type": "display_data"
    }
   ],
   "source": [
    "df_lt = corr_df_lt_25d_show_up.sort_values('abs', ascending=False).query('index != \"Show_up\"')['Show_up'].reset_index()\n",
    "df_lt = df_lt.assign(Wait_days = lambda x: '< 25')\n",
    "df_gte = corr_df_gte_25d_show_up.sort_values('abs', ascending=False).query('index != \"Show_up\"')['Show_up'].reset_index()\n",
    "df_gte = df_gte.assign(Wait_days = lambda x: '>= 25')\n",
    "df_unified = pd.concat([df_lt, df_gte])\n",
    "\n",
    "g = sns.factorplot(kind='bar', data=df_unified, x='index', y='Show_up', hue='Wait_days', size=7, aspect=2)\n",
    "g.set_ylabels('Relationship with Show_up strength')\n",
    "g.set_xlabels('Feature');"
   ]
  },
  {
   "cell_type": "markdown",
   "metadata": {},
   "source": [
    "<a id=\"rq3\"></a>\n",
    "### Research Question 3: How `No-Show` changes when date difference between `ScheduledDay` and `AppointmentDay` increases?\n",
    "\n",
    "Let's plot a fraction of showed up patients against how many days they had to wait."
   ]
  },
  {
   "cell_type": "code",
   "execution_count": 78,
   "metadata": {},
   "outputs": [
    {
     "data": {
      "image/png": "[encoded data removed]",
      "text/plain": [
       "<matplotlib.figure.Figure at 0x7fd213c16748>"
      ]
     },
     "metadata": {},
     "output_type": "display_data"
    }
   ],
   "source": [
    "# create dataset with fractions of `Show_up` based on `Wait_days`\n",
    "df_wait_days = df_cleaned[['Wait_days', 'Show_up']].groupby('Wait_days').mean().reset_index()\n",
    "\n",
    "#set plot size\n",
    "fig, ax = plt.subplots(figsize=(20, 6))\n",
    "\n",
    "# plot `SMS_received` against `Wait_days`\n",
    "plt.plot(df_wait_days['Wait_days'], df_wait_days['Show_up'], 'bo');"
   ]
  },
  {
   "cell_type": "markdown",
   "metadata": {},
   "source": [
    "In correlation heatpam in question 1 it was already visible `Show_up` has a negative relationship to `Wait_days`. In above visualization we can see this relationship in more detail. We can see that for first 25 days `Show_up` follow neatly packed linear trend, but as `Wait_days` keep increasing value points scatter."
   ]
  },
  {
   "cell_type": "markdown",
   "metadata": {},
   "source": [
    "<a id=\"rq4\"></a>\n",
    "### Research Question 4: Does `No-show` tend to be different on different days of week?\n",
    "\n",
    "I'll be using non-directional t tests of `p < 0.05` to find days of week that have significantly different `Show_up` tendencies compared to combined tendencies of entire dataset."
   ]
  },
  {
   "cell_type": "code",
   "execution_count": 24,
   "metadata": {},
   "outputs": [
    {
     "data": {
      "text/html": [
       "<div>\n",
       "<style scoped>\n",
       "    .dataframe tbody tr th:only-of-type {\n",
       "        vertical-align: middle;\n",
       "    }\n",
       "\n",
       "    .dataframe tbody tr th {\n",
       "        vertical-align: top;\n",
       "    }\n",
       "\n",
       "    .dataframe thead th {\n",
       "        text-align: right;\n",
       "    }\n",
       "</style>\n",
       "<table border=\"1\" class=\"dataframe\">\n",
       "  <thead>\n",
       "    <tr style=\"text-align: right;\">\n",
       "      <th></th>\n",
       "      <th>AppointmentDay</th>\n",
       "      <th>Appointment_day_of_week</th>\n",
       "      <th>Appointment_day_of_week_name</th>\n",
       "      <th>Show_up</th>\n",
       "    </tr>\n",
       "  </thead>\n",
       "  <tbody>\n",
       "    <tr>\n",
       "      <th>0</th>\n",
       "      <td>2016-04-29</td>\n",
       "      <td>4</td>\n",
       "      <td>Friday</td>\n",
       "      <td>0.804328</td>\n",
       "    </tr>\n",
       "    <tr>\n",
       "      <th>1</th>\n",
       "      <td>2016-05-02</td>\n",
       "      <td>0</td>\n",
       "      <td>Monday</td>\n",
       "      <td>0.803245</td>\n",
       "    </tr>\n",
       "    <tr>\n",
       "      <th>2</th>\n",
       "      <td>2016-05-03</td>\n",
       "      <td>1</td>\n",
       "      <td>Tuesday</td>\n",
       "      <td>0.804935</td>\n",
       "    </tr>\n",
       "    <tr>\n",
       "      <th>3</th>\n",
       "      <td>2016-05-04</td>\n",
       "      <td>2</td>\n",
       "      <td>Wednesday</td>\n",
       "      <td>0.766739</td>\n",
       "    </tr>\n",
       "    <tr>\n",
       "      <th>4</th>\n",
       "      <td>2016-05-05</td>\n",
       "      <td>3</td>\n",
       "      <td>Thursday</td>\n",
       "      <td>0.811330</td>\n",
       "    </tr>\n",
       "    <tr>\n",
       "      <th>5</th>\n",
       "      <td>2016-05-06</td>\n",
       "      <td>4</td>\n",
       "      <td>Friday</td>\n",
       "      <td>0.795050</td>\n",
       "    </tr>\n",
       "    <tr>\n",
       "      <th>6</th>\n",
       "      <td>2016-05-09</td>\n",
       "      <td>0</td>\n",
       "      <td>Monday</td>\n",
       "      <td>0.774729</td>\n",
       "    </tr>\n",
       "    <tr>\n",
       "      <th>7</th>\n",
       "      <td>2016-05-10</td>\n",
       "      <td>1</td>\n",
       "      <td>Tuesday</td>\n",
       "      <td>0.769731</td>\n",
       "    </tr>\n",
       "    <tr>\n",
       "      <th>8</th>\n",
       "      <td>2016-05-11</td>\n",
       "      <td>2</td>\n",
       "      <td>Wednesday</td>\n",
       "      <td>0.802190</td>\n",
       "    </tr>\n",
       "    <tr>\n",
       "      <th>9</th>\n",
       "      <td>2016-05-12</td>\n",
       "      <td>3</td>\n",
       "      <td>Thursday</td>\n",
       "      <td>0.809513</td>\n",
       "    </tr>\n",
       "    <tr>\n",
       "      <th>10</th>\n",
       "      <td>2016-05-13</td>\n",
       "      <td>4</td>\n",
       "      <td>Friday</td>\n",
       "      <td>0.773012</td>\n",
       "    </tr>\n",
       "    <tr>\n",
       "      <th>11</th>\n",
       "      <td>2016-05-14</td>\n",
       "      <td>5</td>\n",
       "      <td>Saturday</td>\n",
       "      <td>0.769231</td>\n",
       "    </tr>\n",
       "    <tr>\n",
       "      <th>12</th>\n",
       "      <td>2016-05-16</td>\n",
       "      <td>0</td>\n",
       "      <td>Monday</td>\n",
       "      <td>0.772599</td>\n",
       "    </tr>\n",
       "    <tr>\n",
       "      <th>13</th>\n",
       "      <td>2016-05-17</td>\n",
       "      <td>1</td>\n",
       "      <td>Tuesday</td>\n",
       "      <td>0.786319</td>\n",
       "    </tr>\n",
       "    <tr>\n",
       "      <th>14</th>\n",
       "      <td>2016-05-18</td>\n",
       "      <td>2</td>\n",
       "      <td>Wednesday</td>\n",
       "      <td>0.796478</td>\n",
       "    </tr>\n",
       "    <tr>\n",
       "      <th>15</th>\n",
       "      <td>2016-05-19</td>\n",
       "      <td>3</td>\n",
       "      <td>Thursday</td>\n",
       "      <td>0.791101</td>\n",
       "    </tr>\n",
       "    <tr>\n",
       "      <th>16</th>\n",
       "      <td>2016-05-20</td>\n",
       "      <td>4</td>\n",
       "      <td>Friday</td>\n",
       "      <td>0.765152</td>\n",
       "    </tr>\n",
       "    <tr>\n",
       "      <th>17</th>\n",
       "      <td>2016-05-24</td>\n",
       "      <td>1</td>\n",
       "      <td>Tuesday</td>\n",
       "      <td>0.797705</td>\n",
       "    </tr>\n",
       "    <tr>\n",
       "      <th>18</th>\n",
       "      <td>2016-05-25</td>\n",
       "      <td>2</td>\n",
       "      <td>Wednesday</td>\n",
       "      <td>0.805833</td>\n",
       "    </tr>\n",
       "    <tr>\n",
       "      <th>19</th>\n",
       "      <td>2016-05-30</td>\n",
       "      <td>0</td>\n",
       "      <td>Monday</td>\n",
       "      <td>0.803279</td>\n",
       "    </tr>\n",
       "    <tr>\n",
       "      <th>20</th>\n",
       "      <td>2016-05-31</td>\n",
       "      <td>1</td>\n",
       "      <td>Tuesday</td>\n",
       "      <td>0.820753</td>\n",
       "    </tr>\n",
       "    <tr>\n",
       "      <th>21</th>\n",
       "      <td>2016-06-01</td>\n",
       "      <td>2</td>\n",
       "      <td>Wednesday</td>\n",
       "      <td>0.818100</td>\n",
       "    </tr>\n",
       "    <tr>\n",
       "      <th>22</th>\n",
       "      <td>2016-06-02</td>\n",
       "      <td>3</td>\n",
       "      <td>Thursday</td>\n",
       "      <td>0.813921</td>\n",
       "    </tr>\n",
       "    <tr>\n",
       "      <th>23</th>\n",
       "      <td>2016-06-03</td>\n",
       "      <td>4</td>\n",
       "      <td>Friday</td>\n",
       "      <td>0.803178</td>\n",
       "    </tr>\n",
       "    <tr>\n",
       "      <th>24</th>\n",
       "      <td>2016-06-06</td>\n",
       "      <td>0</td>\n",
       "      <td>Monday</td>\n",
       "      <td>0.813899</td>\n",
       "    </tr>\n",
       "    <tr>\n",
       "      <th>25</th>\n",
       "      <td>2016-06-07</td>\n",
       "      <td>1</td>\n",
       "      <td>Tuesday</td>\n",
       "      <td>0.815217</td>\n",
       "    </tr>\n",
       "    <tr>\n",
       "      <th>26</th>\n",
       "      <td>2016-06-08</td>\n",
       "      <td>2</td>\n",
       "      <td>Wednesday</td>\n",
       "      <td>0.827194</td>\n",
       "    </tr>\n",
       "  </tbody>\n",
       "</table>\n",
       "</div>"
      ],
      "text/plain": [
       "   AppointmentDay  Appointment_day_of_week Appointment_day_of_week_name  \\\n",
       "0      2016-04-29                        4                       Friday   \n",
       "1      2016-05-02                        0                       Monday   \n",
       "2      2016-05-03                        1                      Tuesday   \n",
       "3      2016-05-04                        2                    Wednesday   \n",
       "4      2016-05-05                        3                     Thursday   \n",
       "5      2016-05-06                        4                       Friday   \n",
       "6      2016-05-09                        0                       Monday   \n",
       "7      2016-05-10                        1                      Tuesday   \n",
       "8      2016-05-11                        2                    Wednesday   \n",
       "9      2016-05-12                        3                     Thursday   \n",
       "10     2016-05-13                        4                       Friday   \n",
       "11     2016-05-14                        5                     Saturday   \n",
       "12     2016-05-16                        0                       Monday   \n",
       "13     2016-05-17                        1                      Tuesday   \n",
       "14     2016-05-18                        2                    Wednesday   \n",
       "15     2016-05-19                        3                     Thursday   \n",
       "16     2016-05-20                        4                       Friday   \n",
       "17     2016-05-24                        1                      Tuesday   \n",
       "18     2016-05-25                        2                    Wednesday   \n",
       "19     2016-05-30                        0                       Monday   \n",
       "20     2016-05-31                        1                      Tuesday   \n",
       "21     2016-06-01                        2                    Wednesday   \n",
       "22     2016-06-02                        3                     Thursday   \n",
       "23     2016-06-03                        4                       Friday   \n",
       "24     2016-06-06                        0                       Monday   \n",
       "25     2016-06-07                        1                      Tuesday   \n",
       "26     2016-06-08                        2                    Wednesday   \n",
       "\n",
       "     Show_up  \n",
       "0   0.804328  \n",
       "1   0.803245  \n",
       "2   0.804935  \n",
       "3   0.766739  \n",
       "4   0.811330  \n",
       "5   0.795050  \n",
       "6   0.774729  \n",
       "7   0.769731  \n",
       "8   0.802190  \n",
       "9   0.809513  \n",
       "10  0.773012  \n",
       "11  0.769231  \n",
       "12  0.772599  \n",
       "13  0.786319  \n",
       "14  0.796478  \n",
       "15  0.791101  \n",
       "16  0.765152  \n",
       "17  0.797705  \n",
       "18  0.805833  \n",
       "19  0.803279  \n",
       "20  0.820753  \n",
       "21  0.818100  \n",
       "22  0.813921  \n",
       "23  0.803178  \n",
       "24  0.813899  \n",
       "25  0.815217  \n",
       "26  0.827194  "
      ]
     },
     "execution_count": 24,
     "metadata": {},
     "output_type": "execute_result"
    }
   ],
   "source": [
    "df_grouped_by_day = (df_cleaned\n",
    "                     .groupby(['AppointmentDay',\n",
    "                               'Appointment_day_of_week',\n",
    "                               'Appointment_day_of_week_name'])['Show_up']\n",
    "                     .mean()\n",
    "                     .reset_index())\n",
    "df_grouped_by_day"
   ]
  },
  {
   "cell_type": "code",
   "execution_count": 34,
   "metadata": {},
   "outputs": [
    {
     "name": "stderr",
     "output_type": "stream",
     "text": [
      "/home/marozas/.local/lib/python3.5/site-packages/numpy/core/fromnumeric.py:3146: RuntimeWarning: Degrees of freedom <= 0 for slice\n",
      "  **kwargs)\n",
      "/home/marozas/.local/lib/python3.5/site-packages/numpy/core/_methods.py:127: RuntimeWarning: invalid value encountered in double_scalars\n",
      "  ret = ret.dtype.type(ret / rcount)\n"
     ]
    },
    {
     "data": {
      "text/plain": [
       "0"
      ]
     },
     "execution_count": 34,
     "metadata": {},
     "output_type": "execute_result"
    }
   ],
   "source": [
    "population = df_grouped_by_day['Show_up']\n",
    "\n",
    "t_values = (df_grouped_by_day\n",
    "            .sort_values('Appointment_day_of_week')\n",
    "            .groupby(['Appointment_day_of_week', 'Appointment_day_of_week_name'])['Show_up']\n",
    "            .apply(lambda sample: ttest_ind(population, sample))\n",
    "            .reset_index())\n",
    "t_values.drop('Appointment_day_of_week', axis=1, inplace=True)\n",
    "t_values['t'] = t_values['Show_up'].apply(lambda x: x[0])\n",
    "t_values['p'] = t_values['Show_up'].apply(lambda x: x[1])\n",
    "t_values.drop('Show_up', axis=1, inplace=True)\n",
    "t_values.query('p < 0.05').shape[0]"
   ]
  },
  {
   "cell_type": "markdown",
   "metadata": {},
   "source": [
    "No `p` values are small enough to reject null hypothesis. There are no days of week with significantly different `Show_up` tendencies.\n",
    "\n",
    "Let's use a plot plot to visually compare differences."
   ]
  },
  {
   "cell_type": "code",
   "execution_count": 104,
   "metadata": {},
   "outputs": [
    {
     "data": {
      "image/png": "[encoded data removed]",
      "text/plain": [
       "<matplotlib.figure.Figure at 0x7fd21094c198>"
      ]
     },
     "metadata": {},
     "output_type": "display_data"
    }
   ],
   "source": [
    "df_total = df_grouped_by_day[['Show_up']].assign(Appointment_day_of_week_name = lambda x: 'Combined')\n",
    "df_grouped_by_day_sorted = df_grouped_by_day.sort_values('Appointment_day_of_week')\n",
    "\n",
    "fig, ax = plt.subplots(figsize=(20, 10))\n",
    "gs = gridspec.GridSpec(1, 2, width_ratios=[3, 12])\n",
    "\n",
    "ax0 = plt.subplot(gs[0])\n",
    "sns.boxplot(x = df_total['Appointment_day_of_week_name'], y = df_total['Show_up'], ax = ax0)\n",
    "\n",
    "ax1 = plt.subplot(gs[1])\n",
    "sns.boxplot(x = df_grouped_by_day_sorted['Appointment_day_of_week_name'], y = df_grouped_by_day_sorted['Show_up'], ax = ax1);"
   ]
  },
  {
   "cell_type": "markdown",
   "metadata": {},
   "source": [
    "<a id=\"rq5\"></a>\n",
    "### Research Question 5: Are there any neighborhoods with significantly larger or lower `Show_up` rate?\n",
    "\n",
    "I'll be using non-directional t tests of `p < 0.05` to find neighbourhoods that have significantly different `Show_up` tendencies compared to combined tendencies of entire dataset."
   ]
  },
  {
   "cell_type": "code",
   "execution_count": 27,
   "metadata": {},
   "outputs": [
    {
     "name": "stderr",
     "output_type": "stream",
     "text": [
      "/home/marozas/.local/lib/python3.5/site-packages/numpy/core/fromnumeric.py:3146: RuntimeWarning: Degrees of freedom <= 0 for slice\n",
      "  **kwargs)\n",
      "/home/marozas/.local/lib/python3.5/site-packages/numpy/core/_methods.py:127: RuntimeWarning: invalid value encountered in double_scalars\n",
      "  ret = ret.dtype.type(ret / rcount)\n"
     ]
    },
    {
     "data": {
      "text/html": [
       "<div>\n",
       "<style scoped>\n",
       "    .dataframe tbody tr th:only-of-type {\n",
       "        vertical-align: middle;\n",
       "    }\n",
       "\n",
       "    .dataframe tbody tr th {\n",
       "        vertical-align: top;\n",
       "    }\n",
       "\n",
       "    .dataframe thead th {\n",
       "        text-align: right;\n",
       "    }\n",
       "</style>\n",
       "<table border=\"1\" class=\"dataframe\">\n",
       "  <thead>\n",
       "    <tr style=\"text-align: right;\">\n",
       "      <th></th>\n",
       "      <th>Neighbourhood</th>\n",
       "      <th>t</th>\n",
       "      <th>p</th>\n",
       "    </tr>\n",
       "  </thead>\n",
       "  <tbody>\n",
       "    <tr>\n",
       "      <th>31</th>\n",
       "      <td>ILHA DO BOI</td>\n",
       "      <td>-3.744886</td>\n",
       "      <td>0.000186</td>\n",
       "    </tr>\n",
       "    <tr>\n",
       "      <th>36</th>\n",
       "      <td>ITARARÉ</td>\n",
       "      <td>2.506841</td>\n",
       "      <td>0.012259</td>\n",
       "    </tr>\n",
       "    <tr>\n",
       "      <th>48</th>\n",
       "      <td>MÁRIO CYPRESTE</td>\n",
       "      <td>-2.116964</td>\n",
       "      <td>0.034384</td>\n",
       "    </tr>\n",
       "    <tr>\n",
       "      <th>61</th>\n",
       "      <td>SANTA CECÍLIA</td>\n",
       "      <td>2.871890</td>\n",
       "      <td>0.004122</td>\n",
       "    </tr>\n",
       "    <tr>\n",
       "      <th>62</th>\n",
       "      <td>SANTA CLARA</td>\n",
       "      <td>3.050134</td>\n",
       "      <td>0.002317</td>\n",
       "    </tr>\n",
       "    <tr>\n",
       "      <th>70</th>\n",
       "      <td>SANTOS DUMONT</td>\n",
       "      <td>3.436065</td>\n",
       "      <td>0.000602</td>\n",
       "    </tr>\n",
       "  </tbody>\n",
       "</table>\n",
       "</div>"
      ],
      "text/plain": [
       "     Neighbourhood         t         p\n",
       "31     ILHA DO BOI -3.744886  0.000186\n",
       "36         ITARARÉ  2.506841  0.012259\n",
       "48  MÁRIO CYPRESTE -2.116964  0.034384\n",
       "61   SANTA CECÍLIA  2.871890  0.004122\n",
       "62     SANTA CLARA  3.050134  0.002317\n",
       "70   SANTOS DUMONT  3.436065  0.000602"
      ]
     },
     "execution_count": 27,
     "metadata": {},
     "output_type": "execute_result"
    }
   ],
   "source": [
    "population = df_cleaned.groupby(['AppointmentDay', 'Neighbourhood'])['Show_up'].mean().reset_index()\n",
    "t_values = (population\n",
    "            .groupby('Neighbourhood')['Show_up']\n",
    "            .apply(lambda sample: ttest_ind(population['Show_up'], sample))\n",
    "            .reset_index())\n",
    "t_values['t'] = t_values['Show_up'].apply(lambda x: x[0])\n",
    "t_values['p'] = t_values['Show_up'].apply(lambda x: x[1])\n",
    "t_values.drop('Show_up', axis=1, inplace=True)\n",
    "different_neighbourhoods = t_values.query('p < 0.05')\n",
    "different_neighbourhoods"
   ]
  },
  {
   "cell_type": "markdown",
   "metadata": {},
   "source": [
    "There are 6 neighbourhoods that are significantly different.\n",
    "\n",
    "Let's compare them to combined tendencies in a box plot."
   ]
  },
  {
   "cell_type": "code",
   "execution_count": 77,
   "metadata": {},
   "outputs": [
    {
     "data": {
      "image/png": "[encoded data removed]",
      "text/plain": [
       "<matplotlib.figure.Figure at 0x7fd211063f60>"
      ]
     },
     "metadata": {},
     "output_type": "display_data"
    }
   ],
   "source": [
    "df_total = df_cleaned.groupby('Neighbourhood')['Show_up'].mean().reset_index()\n",
    "df_total = df_total.assign(Neighbourhood = lambda x: 'Combined')\n",
    "\n",
    "df_different_neighbourhoods = (df_cleaned[df_cleaned['Neighbourhood']\n",
    "                                          .isin(different_neighbourhoods['Neighbourhood'])]\n",
    "                               .groupby(['AppointmentDay', 'Neighbourhood'])['Show_up']\n",
    "                               .mean()\n",
    "                               .reset_index())\n",
    "\n",
    "fig, ax = plt.subplots(figsize=(20, 10))\n",
    "gs = gridspec.GridSpec(1, 2, width_ratios=[3, 12])\n",
    "\n",
    "ax0 = plt.subplot(gs[0])\n",
    "sns.boxplot(x = df_total['Neighbourhood'], y = df_total['Show_up'], ax = ax0)\n",
    "\n",
    "ax1 = plt.subplot(gs[1])\n",
    "sns.boxplot(x = df_different_neighbourhoods['Neighbourhood'], y = df_different_neighbourhoods['Show_up'], ax = ax1);"
   ]
  },
  {
   "cell_type": "markdown",
   "metadata": {},
   "source": [
    "Let's also boxplot all neighborhoods."
   ]
  },
  {
   "cell_type": "code",
   "execution_count": 36,
   "metadata": {},
   "outputs": [
    {
     "data": {
      "image/png": "[encoded data removed]",
      "text/plain": [
       "<matplotlib.figure.Figure at 0x7fd213e2b358>"
      ]
     },
     "metadata": {},
     "output_type": "display_data"
    }
   ],
   "source": [
    "df_neighborhoods = df_cleaned.groupby(['AppointmentDay', 'Neighbourhood'])['Show_up'].mean().reset_index()\n",
    "\n",
    "fig, ax = plt.subplots(figsize=(20, 10))\n",
    "g = sns.boxplot(x = df_neighborhoods['Neighbourhood'], y = df_neighborhoods['Show_up'], ax = ax)\n",
    "g.set_xticklabels(rotation = 90, labels = df_neighborhoods['Neighbourhood'].unique());"
   ]
  },
  {
   "cell_type": "markdown",
   "metadata": {},
   "source": [
    "<a id='conclusions'></a>\n",
    "## Conclusions\n",
    "\n",
    "### TODO conclude\n",
    "### TODO proof-read\n",
    "\n",
    "> **Tip**: Finally, summarize your findings and the results that have been performed. Make sure that you are clear with regards to the limitations of your exploration. If you haven't done any statistical tests, do not imply any statistical conclusions. And make sure you avoid implying causation from correlation!\n",
    "\n",
    "> **Tip**: Once you are satisfied with your work, you should save a copy of the report in HTML or PDF form. Before exporting your report, check over it to make sure that the flow of the report is complete. You should probably remove all of the \"Tip\" quotes like this one so that the presentation is as tidy as possible. It's also a good idea to look over the project rubric, found on the project submission page at the end of the lesson.\n",
    "\n",
    "> To export the report to the workspace, you should run the code cell below. If it worked correctly, you should get a return code of 0, and you should see the generated .html file in the workspace directory (click on the jupyter icon in the upper left). Alternatively, you can download the html report via the **File** > **Download as** submenu and then manually upload it to the workspace directory. Once you've done this, you can submit your project by clicking on the \"Submit Project\" button in the lower right. Congratulations!"
   ]
  },
  {
   "cell_type": "code",
   "execution_count": null,
   "metadata": {},
   "outputs": [],
   "source": [
    "#from subprocess import call\n",
    "#call(['python', '-m', 'nbconvert', 'Investigate_a_Dataset.ipynb'])"
   ]
  }
 ],
 "metadata": {
  "kernelspec": {
   "display_name": "Python 3",
   "language": "python",
   "name": "python3"
  },
  "language_info": {
   "codemirror_mode": {
    "name": "ipython",
    "version": 3
   },
   "file_extension": ".py",
   "mimetype": "text/x-python",
   "name": "python",
   "nbconvert_exporter": "python",
   "pygments_lexer": "ipython3",
   "version": "3.5.2"
  }
 },
 "nbformat": 4,
 "nbformat_minor": 2
}
